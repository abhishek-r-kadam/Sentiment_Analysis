{
 "cells": [
  {
   "cell_type": "code",
   "execution_count": 1,
   "id": "a6dd9f21",
   "metadata": {},
   "outputs": [],
   "source": [
    "import numpy as np\n",
    "import pandas as pd"
   ]
  },
  {
   "cell_type": "code",
   "execution_count": 2,
   "id": "657fa640",
   "metadata": {},
   "outputs": [
    {
     "data": {
      "text/html": [
       "<div>\n",
       "<style scoped>\n",
       "    .dataframe tbody tr th:only-of-type {\n",
       "        vertical-align: middle;\n",
       "    }\n",
       "\n",
       "    .dataframe tbody tr th {\n",
       "        vertical-align: top;\n",
       "    }\n",
       "\n",
       "    .dataframe thead th {\n",
       "        text-align: right;\n",
       "    }\n",
       "</style>\n",
       "<table border=\"1\" class=\"dataframe\">\n",
       "  <thead>\n",
       "    <tr style=\"text-align: right;\">\n",
       "      <th></th>\n",
       "      <th>sentence</th>\n",
       "      <th>label</th>\n",
       "      <th>source</th>\n",
       "    </tr>\n",
       "  </thead>\n",
       "  <tbody>\n",
       "    <tr>\n",
       "      <th>0</th>\n",
       "      <td>Wow... Loved this place.</td>\n",
       "      <td>1</td>\n",
       "      <td>yelp</td>\n",
       "    </tr>\n",
       "    <tr>\n",
       "      <th>1</th>\n",
       "      <td>Crust is not good.</td>\n",
       "      <td>0</td>\n",
       "      <td>yelp</td>\n",
       "    </tr>\n",
       "    <tr>\n",
       "      <th>2</th>\n",
       "      <td>Not tasty and the texture was just nasty.</td>\n",
       "      <td>0</td>\n",
       "      <td>yelp</td>\n",
       "    </tr>\n",
       "    <tr>\n",
       "      <th>3</th>\n",
       "      <td>Stopped by during the late May bank holiday of...</td>\n",
       "      <td>1</td>\n",
       "      <td>yelp</td>\n",
       "    </tr>\n",
       "    <tr>\n",
       "      <th>4</th>\n",
       "      <td>The selection on the menu was great and so wer...</td>\n",
       "      <td>1</td>\n",
       "      <td>yelp</td>\n",
       "    </tr>\n",
       "    <tr>\n",
       "      <th>...</th>\n",
       "      <td>...</td>\n",
       "      <td>...</td>\n",
       "      <td>...</td>\n",
       "    </tr>\n",
       "    <tr>\n",
       "      <th>743</th>\n",
       "      <td>I just got bored watching Jessice Lange take h...</td>\n",
       "      <td>0</td>\n",
       "      <td>imdb</td>\n",
       "    </tr>\n",
       "    <tr>\n",
       "      <th>744</th>\n",
       "      <td>Unfortunately, any virtue in this film's produ...</td>\n",
       "      <td>0</td>\n",
       "      <td>imdb</td>\n",
       "    </tr>\n",
       "    <tr>\n",
       "      <th>745</th>\n",
       "      <td>In a word, it is embarrassing.</td>\n",
       "      <td>0</td>\n",
       "      <td>imdb</td>\n",
       "    </tr>\n",
       "    <tr>\n",
       "      <th>746</th>\n",
       "      <td>Exceptionally bad!</td>\n",
       "      <td>0</td>\n",
       "      <td>imdb</td>\n",
       "    </tr>\n",
       "    <tr>\n",
       "      <th>747</th>\n",
       "      <td>All in all its an insult to one's intelligence...</td>\n",
       "      <td>0</td>\n",
       "      <td>imdb</td>\n",
       "    </tr>\n",
       "  </tbody>\n",
       "</table>\n",
       "<p>2748 rows × 3 columns</p>\n",
       "</div>"
      ],
      "text/plain": [
       "                                              sentence  label source\n",
       "0                             Wow... Loved this place.      1   yelp\n",
       "1                                   Crust is not good.      0   yelp\n",
       "2            Not tasty and the texture was just nasty.      0   yelp\n",
       "3    Stopped by during the late May bank holiday of...      1   yelp\n",
       "4    The selection on the menu was great and so wer...      1   yelp\n",
       "..                                                 ...    ...    ...\n",
       "743  I just got bored watching Jessice Lange take h...      0   imdb\n",
       "744  Unfortunately, any virtue in this film's produ...      0   imdb\n",
       "745                   In a word, it is embarrassing.        0   imdb\n",
       "746                               Exceptionally bad!        0   imdb\n",
       "747  All in all its an insult to one's intelligence...      0   imdb\n",
       "\n",
       "[2748 rows x 3 columns]"
      ]
     },
     "execution_count": 2,
     "metadata": {},
     "output_type": "execute_result"
    }
   ],
   "source": [
    "import pandas as pd\n",
    "\n",
    "filepath_dict = {'yelp':   'yelp_labelled.txt',\n",
    "                 'amazon': 'amazon_cells_labelled.txt',\n",
    "                 'imdb':   'imdb_labelled.txt'}\n",
    "\n",
    "df_list = []\n",
    "for source, filepath in filepath_dict.items():\n",
    "    df = pd.read_csv(filepath, names=['sentence', 'label'], sep='\\t')\n",
    "    df['source'] = source  # Add another column filled with the source name\n",
    "    df_list.append(df)\n",
    "\n",
    "df = pd.concat(df_list)\n",
    "df"
   ]
  },
  {
   "cell_type": "code",
   "execution_count": 3,
   "id": "0adb2acf",
   "metadata": {},
   "outputs": [
    {
     "data": {
      "text/plain": [
       "(2748,)"
      ]
     },
     "execution_count": 3,
     "metadata": {},
     "output_type": "execute_result"
    }
   ],
   "source": [
    "df[\"sentence\"] = df[\"sentence\"].str.lower()\n",
    "df[\"sentence\"].shape"
   ]
  },
  {
   "cell_type": "code",
   "execution_count": 4,
   "id": "6e711120",
   "metadata": {},
   "outputs": [],
   "source": [
    "from sklearn.feature_extraction.text import CountVectorizer\n",
    "cv = CountVectorizer()"
   ]
  },
  {
   "cell_type": "code",
   "execution_count": 5,
   "id": "379e908a",
   "metadata": {},
   "outputs": [],
   "source": [
    "X = cv.fit_transform(df[\"sentence\"]).toarray()"
   ]
  },
  {
   "cell_type": "code",
   "execution_count": 6,
   "id": "4d1e6396",
   "metadata": {},
   "outputs": [],
   "source": [
    "Y = df[\"label\"]"
   ]
  },
  {
   "cell_type": "code",
   "execution_count": 24,
   "id": "613f4a8b",
   "metadata": {},
   "outputs": [
    {
     "data": {
      "text/plain": [
       "5155"
      ]
     },
     "execution_count": 24,
     "metadata": {},
     "output_type": "execute_result"
    }
   ],
   "source": [
    "voc_size = len(cv.vocabulary_)\n",
    "voc_size"
   ]
  },
  {
   "cell_type": "code",
   "execution_count": 8,
   "id": "af5f0113",
   "metadata": {},
   "outputs": [],
   "source": [
    "from sklearn.model_selection import train_test_split\n",
    "\n",
    "xtrain,xtest,ytrain,ytest = train_test_split(X,Y,test_size=0.2,random_state=2)"
   ]
  },
  {
   "cell_type": "code",
   "execution_count": 9,
   "id": "35dec68b",
   "metadata": {},
   "outputs": [
    {
     "data": {
      "text/plain": [
       "(2198, 5155)"
      ]
     },
     "execution_count": 9,
     "metadata": {},
     "output_type": "execute_result"
    }
   ],
   "source": [
    "xtrain.shape"
   ]
  },
  {
   "cell_type": "code",
   "execution_count": 38,
   "id": "1f320c89",
   "metadata": {},
   "outputs": [
    {
     "data": {
      "text/plain": [
       "5155"
      ]
     },
     "execution_count": 38,
     "metadata": {},
     "output_type": "execute_result"
    }
   ],
   "source": [
    "sent_size = len(xtrain[0])\n",
    "sent_size"
   ]
  },
  {
   "cell_type": "markdown",
   "id": "1b9065a2",
   "metadata": {},
   "source": [
    "### Baseline_Model"
   ]
  },
  {
   "cell_type": "markdown",
   "id": "c2486e50",
   "metadata": {},
   "source": [
    "#### Logistic_Regression"
   ]
  },
  {
   "cell_type": "code",
   "execution_count": 10,
   "id": "682e2be9",
   "metadata": {},
   "outputs": [],
   "source": [
    "from sklearn.linear_model import LogisticRegression\n",
    "\n",
    "lr = LogisticRegression()"
   ]
  },
  {
   "cell_type": "code",
   "execution_count": 11,
   "id": "3c0848c8",
   "metadata": {},
   "outputs": [
    {
     "data": {
      "text/plain": [
       "0.9799818016378526"
      ]
     },
     "execution_count": 11,
     "metadata": {},
     "output_type": "execute_result"
    }
   ],
   "source": [
    "lr.fit(xtrain,ytrain)\n",
    "score = lr.score(xtrain,ytrain)\n",
    "score"
   ]
  },
  {
   "cell_type": "code",
   "execution_count": 12,
   "id": "63c2b2c2",
   "metadata": {},
   "outputs": [
    {
     "data": {
      "text/plain": [
       "0.8272727272727273"
      ]
     },
     "execution_count": 12,
     "metadata": {},
     "output_type": "execute_result"
    }
   ],
   "source": [
    "lr.score(xtest,ytest)"
   ]
  },
  {
   "cell_type": "markdown",
   "id": "70d7ecd4",
   "metadata": {},
   "source": [
    "### RNN"
   ]
  },
  {
   "cell_type": "code",
   "execution_count": 32,
   "id": "fa876d9d",
   "metadata": {},
   "outputs": [],
   "source": [
    "from tensorflow.keras.layers import Dense,RNN,InputLayer,Embedding,SimpleRNN,LSTM"
   ]
  },
  {
   "cell_type": "code",
   "execution_count": 14,
   "id": "faa90e67",
   "metadata": {},
   "outputs": [],
   "source": [
    "from tensorflow.keras.models import Sequential"
   ]
  },
  {
   "cell_type": "code",
   "execution_count": 49,
   "id": "a69fefbb",
   "metadata": {},
   "outputs": [],
   "source": [
    "model = Sequential()"
   ]
  },
  {
   "cell_type": "code",
   "execution_count": 50,
   "id": "364ef956",
   "metadata": {},
   "outputs": [],
   "source": [
    "model.add(Embedding(input_dim=voc_size,output_dim=20,input_length=sent_size)) # input_dim and input_length same beacuse\n",
    "                                                                              # they are count_vectorized\n",
    "model.add(SimpleRNN(10))\n",
    "model.add(Dense(1, activation='sigmoid'))"
   ]
  },
  {
   "cell_type": "code",
   "execution_count": 51,
   "id": "25bf765c",
   "metadata": {},
   "outputs": [],
   "source": [
    "model.compile(optimizer=\"adam\",loss=\"binary_crossentropy\",metrics=[\"accuracy\"])"
   ]
  },
  {
   "cell_type": "code",
   "execution_count": 52,
   "id": "1e74200b",
   "metadata": {},
   "outputs": [
    {
     "name": "stdout",
     "output_type": "stream",
     "text": [
      "Model: \"sequential_4\"\n",
      "_________________________________________________________________\n",
      " Layer (type)                Output Shape              Param #   \n",
      "=================================================================\n",
      " embedding_10 (Embedding)    (None, 5155, 20)          103100    \n",
      "                                                                 \n",
      " simple_rnn_4 (SimpleRNN)    (None, 10)                310       \n",
      "                                                                 \n",
      " dense_4 (Dense)             (None, 1)                 11        \n",
      "                                                                 \n",
      "=================================================================\n",
      "Total params: 103421 (403.99 KB)\n",
      "Trainable params: 103421 (403.99 KB)\n",
      "Non-trainable params: 0 (0.00 Byte)\n",
      "_________________________________________________________________\n"
     ]
    }
   ],
   "source": [
    "model.summary()"
   ]
  },
  {
   "cell_type": "code",
   "execution_count": null,
   "id": "0b16d946",
   "metadata": {},
   "outputs": [
    {
     "name": "stdout",
     "output_type": "stream",
     "text": [
      "Epoch 1/50\n",
      "69/69 [==============================] - 118s 2s/step - loss: 0.6945 - accuracy: 0.4795 - val_loss: 0.6933 - val_accuracy: 0.5000\n",
      "Epoch 2/50\n",
      "69/69 [==============================] - 120s 2s/step - loss: 0.6933 - accuracy: 0.5023 - val_loss: 0.6933 - val_accuracy: 0.4855\n",
      "Epoch 3/50\n",
      " 9/69 [==>...........................] - ETA: 1:41 - loss: 0.6922 - accuracy: 0.5417"
     ]
    }
   ],
   "source": [
    "history = model.fit(xtrain, ytrain,epochs=50,validation_data=(xtest,ytest))"
   ]
  },
  {
   "cell_type": "code",
   "execution_count": null,
   "id": "2bc20a06",
   "metadata": {},
   "outputs": [],
   "source": [
    "text = \"i did not like the review\"\n",
    "\n",
    "bow_text = cv.transform([text]).toarray()"
   ]
  },
  {
   "cell_type": "code",
   "execution_count": null,
   "id": "d431a61d",
   "metadata": {},
   "outputs": [],
   "source": [
    "bow_text"
   ]
  },
  {
   "cell_type": "code",
   "execution_count": null,
   "id": "f00ed0f5",
   "metadata": {},
   "outputs": [],
   "source": [
    "model.predict(bow_text)"
   ]
  },
  {
   "cell_type": "code",
   "execution_count": 20,
   "id": "117f8e2d",
   "metadata": {},
   "outputs": [],
   "source": [
    "import matplotlib.pyplot as plt\n",
    "plt.style.use('ggplot')\n",
    "\n",
    "def plot_history(history):\n",
    "    acc = history.history['accuracy']\n",
    "    val_acc = history.history['val_accuracy']\n",
    "    loss = history.history['loss']\n",
    "    val_loss = history.history['val_loss']\n",
    "    x = range(1, len(acc) + 1)\n",
    "\n",
    "    plt.figure(figsize=(12, 5))\n",
    "    plt.subplot(1, 2, 1)\n",
    "    plt.plot(x, acc, 'b', label='Training acc')\n",
    "    plt.plot(x, val_acc, 'r', label='Validation acc')\n",
    "    plt.title('Training and validation accuracy')\n",
    "    plt.legend()\n",
    "    plt.subplot(1, 2, 2)\n",
    "    plt.plot(x, loss, 'b', label='Training loss')\n",
    "    plt.plot(x, val_loss, 'r', label='Validation loss')\n",
    "    plt.title('Training and validation loss')\n",
    "    plt.legend()"
   ]
  },
  {
   "cell_type": "code",
   "execution_count": 21,
   "id": "609a9945",
   "metadata": {},
   "outputs": [
    {
     "data": {
      "image/png": "[encoded data removed]",
      "text/plain": [
       "<Figure size 1200x500 with 2 Axes>"
      ]
     },
     "metadata": {},
     "output_type": "display_data"
    }
   ],
   "source": [
    "plot_history(history)"
   ]
  },
  {
   "cell_type": "code",
   "execution_count": null,
   "id": "1ddc6a58",
   "metadata": {},
   "outputs": [],
   "source": []
  }
 ],
 "metadata": {
  "kernelspec": {
   "display_name": "Python 3 (ipykernel)",
   "language": "python",
   "name": "python3"
  },
  "language_info": {
   "codemirror_mode": {
    "name": "ipython",
    "version": 3
   },
   "file_extension": ".py",
   "mimetype": "text/x-python",
   "name": "python",
   "nbconvert_exporter": "python",
   "pygments_lexer": "ipython3",
   "version": "3.10.6"
  }
 },
 "nbformat": 4,
 "nbformat_minor": 5
}
